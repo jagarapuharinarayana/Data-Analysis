{
 "cells": [
  {
   "cell_type": "code",
   "execution_count": 4,
   "id": "1c8003a2",
   "metadata": {},
   "outputs": [],
   "source": [
    "import requests"
   ]
  },
  {
   "cell_type": "code",
   "execution_count": 5,
   "id": "38d9d856",
   "metadata": {},
   "outputs": [],
   "source": [
    "from bs4 import BeautifulSoup"
   ]
  },
  {
   "cell_type": "code",
   "execution_count": 6,
   "id": "32895f7a",
   "metadata": {},
   "outputs": [],
   "source": [
    "url=\"https://www.google.com/\"\n",
    "req=requests.get(url)"
   ]
  },
  {
   "cell_type": "code",
   "execution_count": 7,
   "id": "4b84da1e",
   "metadata": {},
   "outputs": [
    {
     "name": "stdout",
     "output_type": "stream",
     "text": [
      "<Response [200]>\n"
     ]
    }
   ],
   "source": [
    "print(req)"
   ]
  },
  {
   "cell_type": "code",
   "execution_count": 8,
   "id": "828d7d32",
   "metadata": {},
   "outputs": [],
   "source": [
    "soup=BeautifulSoup(req.content,\"html.parser\")\n"
   ]
  },
  {
   "cell_type": "code",
   "execution_count": 9,
   "id": "cc760615",
   "metadata": {},
   "outputs": [],
   "source": [
    "data=soup.findAll(\"textarea\",{\"class\":\"gLFyf\"})"
   ]
  },
  {
   "cell_type": "code",
   "execution_count": 1,
   "id": "b2743578",
   "metadata": {},
   "outputs": [],
   "source": [
    "import requests"
   ]
  },
  {
   "cell_type": "code",
   "execution_count": 2,
   "id": "d90eecf9",
   "metadata": {},
   "outputs": [],
   "source": [
    "from bs4 import BeautifulSoup"
   ]
  },
  {
   "cell_type": "code",
   "execution_count": 3,
   "id": "ae8f3393",
   "metadata": {},
   "outputs": [
    {
     "data": {
      "text/plain": [
       "'D:\\\\'"
      ]
     },
     "execution_count": 3,
     "metadata": {},
     "output_type": "execute_result"
    }
   ],
   "source": [
    "pwd"
   ]
  },
  {
   "cell_type": "code",
   "execution_count": 4,
   "id": "6fe0eabb",
   "metadata": {},
   "outputs": [],
   "source": [
    "a=[]\n",
    "for k in range(0,24):\n",
    "    url=f\"https://codecanyon.net/item/foodrush-android-ecommerce-app-template/screenshots/44451397?index={k}\"\n",
    "    a.append(url)"
   ]
  },
  {
   "cell_type": "code",
   "execution_count": 5,
   "id": "a793bd14",
   "metadata": {},
   "outputs": [],
   "source": [
    "# for i,j in enumerate(a):\n",
    "#     print(j)\n",
    "#     req = requests.get(j)\n",
    "#     with open(f\"{i}.png\" ,\"wb\") as f:\n",
    "#         f.write(req.content)"
   ]
  },
  {
   "cell_type": "code",
   "execution_count": 8,
   "id": "7eb5c1be",
   "metadata": {},
   "outputs": [],
   "source": [
    "images=[]\n",
    "for i in a:\n",
    "    req=requests.get(i)\n",
    "    soup=BeautifulSoup(req.content,\"html.parser\")\n",
    "    for i in soup.findAll(\"div\",{\"class\":\"screenshots__fullsize\"}):\n",
    "        for j in i.findAll(\"img\"):\n",
    "            images.append(j.get(\"src\"))\n",
    "\n",
    "    "
   ]
  },
  {
   "cell_type": "code",
   "execution_count": 9,
   "id": "e24dfb64",
   "metadata": {},
   "outputs": [
    {
     "data": {
      "text/plain": [
       "['https://s3.envato.com/files/440460781/preview-screenshots/1.jpg',\n",
       " 'https://s3.envato.com/files/440460781/preview-screenshots/10.jpg',\n",
       " 'https://s3.envato.com/files/440460781/preview-screenshots/11.jpg',\n",
       " 'https://s3.envato.com/files/440460781/preview-screenshots/12.jpg',\n",
       " 'https://s3.envato.com/files/440460781/preview-screenshots/13.jpg',\n",
       " 'https://s3.envato.com/files/440460781/preview-screenshots/14.jpg',\n",
       " 'https://s3.envato.com/files/440460781/preview-screenshots/15.jpg',\n",
       " 'https://s3.envato.com/files/440460781/preview-screenshots/16.jpg',\n",
       " 'https://s3.envato.com/files/440460781/preview-screenshots/17.jpg',\n",
       " 'https://s3.envato.com/files/440460781/preview-screenshots/18.jpg',\n",
       " 'https://s3.envato.com/files/440460781/preview-screenshots/19.jpg',\n",
       " 'https://s3.envato.com/files/440460781/preview-screenshots/2.jpg',\n",
       " 'https://s3.envato.com/files/440460781/preview-screenshots/20.jpg',\n",
       " 'https://s3.envato.com/files/440460781/preview-screenshots/21.jpg',\n",
       " 'https://s3.envato.com/files/440460781/preview-screenshots/22.jpg',\n",
       " 'https://s3.envato.com/files/440460781/preview-screenshots/23.jpg',\n",
       " 'https://s3.envato.com/files/440460781/preview-screenshots/24.jpg',\n",
       " 'https://s3.envato.com/files/440460781/preview-screenshots/3.jpg',\n",
       " 'https://s3.envato.com/files/440460781/preview-screenshots/4.jpg',\n",
       " 'https://s3.envato.com/files/440460781/preview-screenshots/5.jpg',\n",
       " 'https://s3.envato.com/files/440460781/preview-screenshots/6.jpg',\n",
       " 'https://s3.envato.com/files/440460781/preview-screenshots/7.jpg',\n",
       " 'https://s3.envato.com/files/440460781/preview-screenshots/8.jpg',\n",
       " 'https://s3.envato.com/files/440460781/preview-screenshots/9.jpg']"
      ]
     },
     "execution_count": 9,
     "metadata": {},
     "output_type": "execute_result"
    }
   ],
   "source": [
    "images"
   ]
  },
  {
   "cell_type": "code",
   "execution_count": 25,
   "id": "7a5dd6f7",
   "metadata": {},
   "outputs": [],
   "source": [
    "images=[]\n",
    "for i in range(len(a)):\n",
    "    req=requests.get(a[i])\n",
    "    soup=BeautifulSoup(req.content,\"html.parser\")\n",
    "    for i in soup.findAll(\"div\",{\"class\":\"screenshots__fullsize\"}):\n",
    "        for j in i.findAll(\"img\"):\n",
    "            images.append(j.get(\"src\"))\n"
   ]
  },
  {
   "cell_type": "code",
   "execution_count": 36,
   "id": "3756c321",
   "metadata": {},
   "outputs": [],
   "source": [
    "import os\n",
    "os.makedirs(\"img\",exist_ok=True)"
   ]
  },
  {
   "cell_type": "code",
   "execution_count": 38,
   "id": "762553fd",
   "metadata": {},
   "outputs": [
    {
     "name": "stdout",
     "output_type": "stream",
     "text": [
      "https://s3.envato.com/files/440460781/preview-screenshots/1.jpg\n",
      "https://s3.envato.com/files/440460781/preview-screenshots/10.jpg\n",
      "https://s3.envato.com/files/440460781/preview-screenshots/11.jpg\n",
      "https://s3.envato.com/files/440460781/preview-screenshots/12.jpg\n",
      "https://s3.envato.com/files/440460781/preview-screenshots/13.jpg\n",
      "https://s3.envato.com/files/440460781/preview-screenshots/14.jpg\n",
      "https://s3.envato.com/files/440460781/preview-screenshots/15.jpg\n",
      "https://s3.envato.com/files/440460781/preview-screenshots/16.jpg\n",
      "https://s3.envato.com/files/440460781/preview-screenshots/17.jpg\n",
      "https://s3.envato.com/files/440460781/preview-screenshots/18.jpg\n",
      "https://s3.envato.com/files/440460781/preview-screenshots/19.jpg\n",
      "https://s3.envato.com/files/440460781/preview-screenshots/2.jpg\n",
      "https://s3.envato.com/files/440460781/preview-screenshots/20.jpg\n",
      "https://s3.envato.com/files/440460781/preview-screenshots/21.jpg\n",
      "https://s3.envato.com/files/440460781/preview-screenshots/22.jpg\n",
      "https://s3.envato.com/files/440460781/preview-screenshots/23.jpg\n",
      "https://s3.envato.com/files/440460781/preview-screenshots/24.jpg\n",
      "https://s3.envato.com/files/440460781/preview-screenshots/3.jpg\n",
      "https://s3.envato.com/files/440460781/preview-screenshots/4.jpg\n",
      "https://s3.envato.com/files/440460781/preview-screenshots/5.jpg\n",
      "https://s3.envato.com/files/440460781/preview-screenshots/6.jpg\n",
      "https://s3.envato.com/files/440460781/preview-screenshots/7.jpg\n",
      "https://s3.envato.com/files/440460781/preview-screenshots/8.jpg\n",
      "https://s3.envato.com/files/440460781/preview-screenshots/9.jpg\n"
     ]
    }
   ],
   "source": [
    "for i,j in enumerate(images):\n",
    "    print(j)\n",
    "    req = requests.get(j)\n",
    "    Z = j.split(\"/\")[-1]\n",
    "    with open(f\"img/{Z}\" ,\"wb\") as f:\n",
    "        f.write(req.content)"
   ]
  },
  {
   "cell_type": "code",
   "execution_count": null,
   "id": "1be7d1a8",
   "metadata": {},
   "outputs": [],
   "source": [
    "print(req)"
   ]
  },
  {
   "cell_type": "code",
   "execution_count": 55,
   "id": "c88e6142",
   "metadata": {},
   "outputs": [],
   "source": [
    "soup=BeautifulSoup(req.content,\"html.parser\")"
   ]
  },
  {
   "cell_type": "code",
   "execution_count": 56,
   "id": "23e4fc47",
   "metadata": {},
   "outputs": [
    {
     "name": "stdout",
     "output_type": "stream",
     "text": [
      "https://s3.envato.com/files/440460781/preview-screenshots/1.jpg\n"
     ]
    }
   ],
   "source": [
    "for i in soup.findAll(\"div\",{\"class\":\"screenshots__fullsize\"}):\n",
    "    for j in i.findAll(\"img\"):\n",
    "        print(j.get(\"src\"))\n",
    "        "
   ]
  },
  {
   "cell_type": "code",
   "execution_count": 30,
   "id": "6614d96f",
   "metadata": {},
   "outputs": [
    {
     "name": "stdout",
     "output_type": "stream",
     "text": [
      "0 https://s3.envato.com/files/440460781/preview-screenshots/1.jpg\n",
      "1 https://s3.envato.com/files/440460781/preview-screenshots/10.jpg\n",
      "2 https://s3.envato.com/files/440460781/preview-screenshots/11.jpg\n",
      "3 https://s3.envato.com/files/440460781/preview-screenshots/12.jpg\n",
      "4 https://s3.envato.com/files/440460781/preview-screenshots/13.jpg\n",
      "5 https://s3.envato.com/files/440460781/preview-screenshots/14.jpg\n",
      "6 https://s3.envato.com/files/440460781/preview-screenshots/15.jpg\n",
      "7 https://s3.envato.com/files/440460781/preview-screenshots/16.jpg\n",
      "8 https://s3.envato.com/files/440460781/preview-screenshots/17.jpg\n",
      "9 https://s3.envato.com/files/440460781/preview-screenshots/18.jpg\n",
      "10 https://s3.envato.com/files/440460781/preview-screenshots/19.jpg\n",
      "11 https://s3.envato.com/files/440460781/preview-screenshots/2.jpg\n",
      "12 https://s3.envato.com/files/440460781/preview-screenshots/20.jpg\n",
      "13 https://s3.envato.com/files/440460781/preview-screenshots/21.jpg\n",
      "14 https://s3.envato.com/files/440460781/preview-screenshots/22.jpg\n",
      "15 https://s3.envato.com/files/440460781/preview-screenshots/23.jpg\n",
      "16 https://s3.envato.com/files/440460781/preview-screenshots/24.jpg\n",
      "17 https://s3.envato.com/files/440460781/preview-screenshots/3.jpg\n",
      "18 https://s3.envato.com/files/440460781/preview-screenshots/4.jpg\n",
      "19 https://s3.envato.com/files/440460781/preview-screenshots/5.jpg\n",
      "20 https://s3.envato.com/files/440460781/preview-screenshots/6.jpg\n",
      "21 https://s3.envato.com/files/440460781/preview-screenshots/7.jpg\n",
      "22 https://s3.envato.com/files/440460781/preview-screenshots/8.jpg\n",
      "23 https://s3.envato.com/files/440460781/preview-screenshots/9.jpg\n"
     ]
    }
   ],
   "source": [
    "for i,j in enumerate(images):\n",
    "    print(i,j)"
   ]
  },
  {
   "cell_type": "code",
   "execution_count": 35,
   "id": "31e23838",
   "metadata": {},
   "outputs": [
    {
     "data": {
      "text/plain": [
       "'9.jpg'"
      ]
     },
     "execution_count": 35,
     "metadata": {},
     "output_type": "execute_result"
    }
   ],
   "source": []
  },
  {
   "cell_type": "code",
   "execution_count": 2,
   "id": "46aa2831",
   "metadata": {},
   "outputs": [
    {
     "ename": "ModuleNotFoundError",
     "evalue": "No module named 'GoogleImageScraper'",
     "output_type": "error",
     "traceback": [
      "\u001b[1;31m---------------------------------------------------------------------------\u001b[0m",
      "\u001b[1;31mModuleNotFoundError\u001b[0m                       Traceback (most recent call last)",
      "Cell \u001b[1;32mIn[2], line 1\u001b[0m\n\u001b[1;32m----> 1\u001b[0m \u001b[38;5;28;01mimport\u001b[39;00m \u001b[38;5;21;01mGoogleImageScraper\u001b[39;00m\n\u001b[0;32m      2\u001b[0m urls \u001b[38;5;241m=\u001b[39m GoogleImageScraper\u001b[38;5;241m.\u001b[39murls(query\u001b[38;5;241m=\u001b[39m\u001b[38;5;124m'\u001b[39m\u001b[38;5;124mcats\u001b[39m\u001b[38;5;124m'\u001b[39m, limit\u001b[38;5;241m=\u001b[39m\u001b[38;5;241m10\u001b[39m, arguments\u001b[38;5;241m=\u001b[39m{\u001b[38;5;124m'\u001b[39m\u001b[38;5;124mcolor\u001b[39m\u001b[38;5;124m'\u001b[39m: \u001b[38;5;124m'\u001b[39m\u001b[38;5;124mblack\u001b[39m\u001b[38;5;124m'\u001b[39m})\n",
      "\u001b[1;31mModuleNotFoundError\u001b[0m: No module named 'GoogleImageScraper'"
     ]
    }
   ],
   "source": [
    "import GoogleImageScraper\n",
    "urls = GoogleImageScraper.urls(query='cats', limit=10, arguments={'color': 'black'})"
   ]
  },
  {
   "cell_type": "code",
   "execution_count": null,
   "id": "7caafe96",
   "metadata": {},
   "outputs": [],
   "source": []
  }
 ],
 "metadata": {
  "kernelspec": {
   "display_name": "Python 3 (ipykernel)",
   "language": "python",
   "name": "python3"
  },
  "language_info": {
   "codemirror_mode": {
    "name": "ipython",
    "version": 3
   },
   "file_extension": ".py",
   "mimetype": "text/x-python",
   "name": "python",
   "nbconvert_exporter": "python",
   "pygments_lexer": "ipython3",
   "version": "3.11.0"
  }
 },
 "nbformat": 4,
 "nbformat_minor": 5
}
